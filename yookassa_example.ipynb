{
 "cells": [
  {
   "cell_type": "code",
   "execution_count": 16,
   "id": "c2b54f60-d1ba-4625-8d53-05c89a331cb4",
   "metadata": {},
   "outputs": [],
   "source": [
    "SHOP_ID = 376226\n",
    "API_KEY = 'test_aQsq3MVmmOBwFkLRNHb1vs0fTTY54YnVHnzzYg-3Y28'"
   ]
  },
  {
   "cell_type": "markdown",
   "id": "51dc1274-d61c-4936-95d0-a0df5dbd6875",
   "metadata": {},
   "source": [
    "# Оплата по ссылочке"
   ]
  },
  {
   "cell_type": "code",
   "execution_count": 17,
   "id": "50cff8d8-b054-48a3-91ea-801912d2db49",
   "metadata": {},
   "outputs": [],
   "source": [
    "import uuid\n",
    "from yookassa import Configuration, Payment\n",
    "\n",
    "Configuration.account_id = SHOP_ID\n",
    "Configuration.secret_key = API_KEY"
   ]
  },
  {
   "cell_type": "code",
   "execution_count": 18,
   "id": "d0fc07be-c71b-4dc4-887a-9e2cdf3151ea",
   "metadata": {},
   "outputs": [
    {
     "data": {
      "text/plain": [
       "UUID('2091ae6e-4a13-4cb7-ad5d-d79e1ac0753f')"
      ]
     },
     "execution_count": 18,
     "metadata": {},
     "output_type": "execute_result"
    }
   ],
   "source": [
    "# в целом uuid4 ~ генератор случайных чисел\n",
    "idempotency_key = uuid.uuid4()\n",
    "idempotency_key"
   ]
  },
  {
   "cell_type": "code",
   "execution_count": 19,
   "id": "1e7c77b5-7c3d-458b-a435-089b1121e635",
   "metadata": {},
   "outputs": [],
   "source": [
    "payment = Payment.create(\n",
    "    params={\n",
    "        'amount': {\n",
    "            'value': '100.00',\n",
    "            'currency': 'RUB',\n",
    "        },\n",
    "        'confirmation': {\n",
    "            'type': 'redirect',  # заменить\n",
    "            'return_url': 'https://www.example.com/'\n",
    "        },\n",
    "        'capture': True,\n",
    "        'description': 'Просто тест',\n",
    "    },\n",
    "    idempotency_key=idempotency_key,\n",
    ")"
   ]
  },
  {
   "cell_type": "code",
   "execution_count": 24,
   "id": "5dc51ffc-30f6-4824-a0b3-3e245d3a4606",
   "metadata": {},
   "outputs": [
    {
     "data": {
      "text/plain": [
       "'https://yoomoney.ru/checkout/payments/v2/contract?orderId=2dc840e7-000f-5000-a000-13f511385b8b'"
      ]
     },
     "execution_count": 24,
     "metadata": {},
     "output_type": "execute_result"
    }
   ],
   "source": [
    "payment.confirmation.confirmation_url"
   ]
  },
  {
   "cell_type": "code",
   "execution_count": 28,
   "id": "758a1704-6ac8-4e4d-ba93-9bed62d63d43",
   "metadata": {},
   "outputs": [
    {
     "data": {
      "text/plain": [
       "'pending'"
      ]
     },
     "execution_count": 28,
     "metadata": {},
     "output_type": "execute_result"
    }
   ],
   "source": [
    "payment.status"
   ]
  },
  {
   "cell_type": "markdown",
   "id": "6e98b6f2-c85b-4617-aa85-03d68098c765",
   "metadata": {},
   "source": [
    "> типа перешли и оплатили"
   ]
  },
  {
   "cell_type": "code",
   "execution_count": 26,
   "id": "626e6188-aa91-4801-889c-d233971a8279",
   "metadata": {},
   "outputs": [
    {
     "data": {
      "text/plain": [
       "'2dc840e7-000f-5000-a000-13f511385b8b'"
      ]
     },
     "execution_count": 26,
     "metadata": {},
     "output_type": "execute_result"
    }
   ],
   "source": [
    "payment.id"
   ]
  },
  {
   "cell_type": "markdown",
   "id": "8a1f5647-dc7a-4ad9-8de5-50819e092f60",
   "metadata": {},
   "source": [
    "теперь запрашиваем новую инфу по этому же объекту payment"
   ]
  },
  {
   "cell_type": "code",
   "execution_count": 30,
   "id": "0ef3733b-aa6a-4103-ad91-dc69d6b8a9d0",
   "metadata": {},
   "outputs": [],
   "source": [
    "payment2 = Payment.find_one('2dc840e7-000f-5000-a000-13f511385b8b')"
   ]
  },
  {
   "cell_type": "code",
   "execution_count": 31,
   "id": "69fd3a5a-c2a2-4791-8507-031e8c1edbc1",
   "metadata": {},
   "outputs": [
    {
     "data": {
      "text/plain": [
       "'succeeded'"
      ]
     },
     "execution_count": 31,
     "metadata": {},
     "output_type": "execute_result"
    }
   ],
   "source": [
    "payment2.status"
   ]
  },
  {
   "cell_type": "markdown",
   "id": "31ca5f8e-a51f-43cb-831c-b1fcc5a0b61a",
   "metadata": {},
   "source": [
    "всё успешно!)"
   ]
  },
  {
   "cell_type": "markdown",
   "id": "197a1d91-9c91-426d-bb50-9928a3ff39fb",
   "metadata": {},
   "source": [
    "# А вообще в идеале эту оплату зафигачить прям внутрь бота (там можно embedded html пихать)"
   ]
  }
 ],
 "metadata": {
  "kernelspec": {
   "display_name": "Python 3 (ipykernel)",
   "language": "python",
   "name": "python3"
  },
  "language_info": {
   "codemirror_mode": {
    "name": "ipython",
    "version": 3
   },
   "file_extension": ".py",
   "mimetype": "text/x-python",
   "name": "python",
   "nbconvert_exporter": "python",
   "pygments_lexer": "ipython3",
   "version": "3.11.8"
  }
 },
 "nbformat": 4,
 "nbformat_minor": 5
}
